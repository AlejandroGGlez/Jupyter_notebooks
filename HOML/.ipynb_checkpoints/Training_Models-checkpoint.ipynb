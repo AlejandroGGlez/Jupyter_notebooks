{
 "cells": [
  {
   "cell_type": "markdown",
   "id": "3b819962-9d69-4ef6-b382-c07f0cf79192",
   "metadata": {},
   "source": [
    "# Training Models"
   ]
  },
  {
   "cell_type": "markdown",
   "id": "d02de090-5420-46fa-a89d-584b29c9969d",
   "metadata": {},
   "source": [
    "## Linear Regression\n",
    "\n",
    "A linear models makes a prdiction by simply computing a weighted sum of the input features, plus a constant called the bias term.\n",
    "\n",
    "> Linear Regression Model \\\n",
    "$y = \\theta_0 + \\theta_1x_1 + \\theta_2x_2 + ... \\theta_nx_n$\n",
    "\n",
    "This linear equation can be written more concisely using a vectorized form\n",
    "> Linear Regression Model (vectorized form)\\\n",
    "$ y  = \\boldsymbol{h_{\\theta}(x)} = \\boldsymbol{\\theta·x}$\n",
    "\n",
    "To optimize our model we have to choose a performace measure of the mode. i n this case we are going to use the **Mean Squared Error** rather than the **Root Mean Squared Error**, mainly beacause it is simpler to minize and it leads to the same results\n",
    "\n",
    "> MSE cost function for a Linear Regression model\\\n",
    "$ MSE(\\boldsymbol{X}, h_{\\theta}) = \\frac{1}{m} \\sum_{i = 1}^{m} (\\boldsymbol{\\theta^T·x^{(i)}}-y{(i)})^2 $"
   ]
  },
  {
   "cell_type": "markdown",
   "id": "b6d1807c-c18f-421d-a524-97b1199af21a",
   "metadata": {},
   "source": [
    "### The Normal Equation\n",
    "\n",
    "To find the value of $\\boldsymbol{\\theta}$ that minimizes the cost function, ther is a *closed-form* solution- in other words, a mathematical equation that gives the result directly. This is called the *Normal Equation*\n",
    "> $\\tilde{\\theta} = (X^TX)^{-1} X^T y $"
   ]
  },
  {
   "cell_type": "code",
   "execution_count": 69,
   "id": "42ad13b2-0507-4be9-a35c-ea97831797ba",
   "metadata": {},
   "outputs": [
    {
     "data": {
      "image/png": "[encoded data removed]",
      "text/plain": [
       "<Figure size 432x288 with 1 Axes>"
      ]
     },
     "metadata": {
      "needs_background": "light"
     },
     "output_type": "display_data"
    }
   ],
   "source": [
    "import numpy as np\n",
    "import matplotlib.pyplot as plt\n",
    "X = 2 * np.random.rand(100, 1)\n",
    "y = 4 + 3 * X + np.random.rand(100,1)\n",
    "\n",
    "plt.scatter(X, y)\n",
    "plt.ylim((0, 14))\n",
    "plt.xlabel('X')\n",
    "plt.ylabel('y')\n",
    "plt.show()"
   ]
  },
  {
   "cell_type": "markdown",
   "id": "83b235d2-0ec1-4ee1-81cf-00e29e4630d7",
   "metadata": {},
   "source": [
    "We have generated a Random linear dataset\n",
    "\n",
    "We are going to use the ```inv()``` funciton from the NumPy's linear alegra module to compute the inverse of a matriz, and the ```dot()``` methof for the matrix multiplication\n"
   ]
  },
  {
   "cell_type": "code",
   "execution_count": 70,
   "id": "97fa0d12-fc63-4aa0-a895-1bbd4a582009",
   "metadata": {},
   "outputs": [
    {
     "data": {
      "text/plain": [
       "array([[4.55242812],\n",
       "       [2.92868956]])"
      ]
     },
     "execution_count": 70,
     "metadata": {},
     "output_type": "execute_result"
    }
   ],
   "source": [
    "X_b = np.c_[np.ones((100,1)), X]\n",
    "theta_best = np.linalg.inv(X_b.T.dot(X_b)).dot(X_b.T).dot(y)\n",
    "theta_best"
   ]
  },
  {
   "cell_type": "markdown",
   "id": "2f398571-a1de-43d9-ab17-20193516b09a",
   "metadata": {},
   "source": [
    "We would have hoped for $\\theta_0=4$ and $\\theta_1 = 3$ instead of 4.55 and 2.98. Close enough, but the noise made it imposssible to recover the exact parameter of the original function\n",
    "\n",
    "Now we can make predictions using $\\tilde{\\theta}$"
   ]
  },
  {
   "cell_type": "code",
   "execution_count": 71,
   "id": "cc1a083c-0234-452e-a38c-c4c7cfb6180f",
   "metadata": {},
   "outputs": [
    {
     "data": {
      "text/plain": [
       "array([[ 4.55242812],\n",
       "       [10.40980723]])"
      ]
     },
     "execution_count": 71,
     "metadata": {},
     "output_type": "execute_result"
    }
   ],
   "source": [
    "X_new = np.array(([0],[2]))\n",
    "X_new_b = np.c_[np.ones((2,1)), X_new]\n",
    "y_predict = X_new_b.dot(theta_best)\n",
    "y_predict"
   ]
  },
  {
   "cell_type": "code",
   "execution_count": 72,
   "id": "6968e327-f84d-4878-9f29-604f13a9bb3f",
   "metadata": {},
   "outputs": [
    {
     "data": {
      "image/png": "[encoded data removed]",
      "text/plain": [
       "<Figure size 432x288 with 1 Axes>"
      ]
     },
     "metadata": {
      "needs_background": "light"
     },
     "output_type": "display_data"
    }
   ],
   "source": [
    "plt.plot(X_new, y_predict, 'r-')\n",
    "plt.plot(X, y, 'b.')\n",
    "plt.axis([0,2,0,15])\n",
    "plt.show()"
   ]
  },
  {
   "cell_type": "markdown",
   "id": "d039fc2c-a51c-42a2-971a-158d106b14aa",
   "metadata": {},
   "source": [
    "Performin Linear Regression using Sci--kitLearn is simple"
   ]
  },
  {
   "cell_type": "code",
   "execution_count": 73,
   "id": "650c40c4-08b2-4649-9fe1-bd0198f2eb45",
   "metadata": {},
   "outputs": [
    {
     "data": {
      "text/plain": [
       "(array([4.55242812]), array([[2.92868956]]))"
      ]
     },
     "execution_count": 73,
     "metadata": {},
     "output_type": "execute_result"
    }
   ],
   "source": [
    "from sklearn.linear_model import LinearRegression\n",
    "\n",
    "lin_reg = LinearRegression()\n",
    "lin_reg.fit(X, y)\n",
    "lin_reg.intercept_, lin_reg.coef_"
   ]
  },
  {
   "cell_type": "code",
   "execution_count": 74,
   "id": "f282e7ea-57dc-4ac6-a4c2-13c64c48f973",
   "metadata": {},
   "outputs": [
    {
     "data": {
      "text/plain": [
       "array([[ 4.55242812],\n",
       "       [10.40980723]])"
      ]
     },
     "execution_count": 74,
     "metadata": {},
     "output_type": "execute_result"
    }
   ],
   "source": [
    "lin_reg.predict(X_new)"
   ]
  },
  {
   "cell_type": "markdown",
   "id": "655bd408-2d17-412c-acd9-fdad692dec56",
   "metadata": {},
   "source": [
    "The LinearRegression clas is based on the ```scipy.linalg.lstsq()```function (from 'least squares')"
   ]
  },
  {
   "cell_type": "markdown",
   "id": "ad2cd4c5-b311-4eab-b99b-4a3fcc7f5cdb",
   "metadata": {},
   "source": [
    "## Computational Complexity\n",
    "\n",
    "The Normal Equation computes $\\boldsymbol{X^TX}$, which is an $(n+1) x (n+1)$ matrix where $n$ is the number of features. The *computational complexity* of inverting such a matrix is typically abou the order of n to 2.4 to 3, depending on the implementation. In other words, if you doble the number of features, you simply multiply the computation time by roughly $2^2.4 = 5.3$ to $2^3 = 8$\n",
    "\n",
    "Also, once you have trained your Linear Regression model (independly of the algorthm), predictions are very fast: the computational complexity is linear with regard to both the number of instances you want to make predictions on an the number of instances."
   ]
  },
  {
   "cell_type": "markdown",
   "id": "aeeb8aa4-7fcb-40df-8d89-28e3b9c7e8fa",
   "metadata": {},
   "source": [
    "## Gradient Descent\n",
    "\n",
    "*Gradient Descent* is a generic algorithm capable of finding optimal solutions to a wide variety of problems. \n",
    "\n",
    "The general idea of Gradient Descent is to tweak the parameters iteratively in order to minimize a cost function\n",
    "\n",
    "When using Gradient Descent, we should ensure that all features have a similar dcale, or else it will take much longer to converge to the minimun."
   ]
  },
  {
   "cell_type": "markdown",
   "id": "a5797785-f6ae-4467-9c00-541ab672a79a",
   "metadata": {},
   "source": [
    "To implement Gradient Descent you need to compute the graidient of the cost function with regard to each model parameter $\\theta_j$. In other words, you need to calculate how much the cost function will change if you change $\\theta_j$ just a little bit. This is called a *partial derivative*\n",
    "\n",
    "> $\\displaystyle \\frac{\\partial}{\\partial \\theta_j}MSE(\\theta) = \\frac{2}{m} \\sum_{i = 1}^{m} (\\theta^Tx^{(i)}-y^{(i)})x^{(i)}_j$\n",
    "\n",
    "However rather than compute these partial derivates indidually for each $j$ feature, we acan use a vectorized implementation\n",
    "\n",
    "> $\\displaystyle \\nabla_{\\theta}MSE(\\theta) = \\frac{2}{m}X^T(X\\theta-y)$"
   ]
  },
  {
   "cell_type": "markdown",
   "id": "49b903c4-e770-45c2-8866-a729fec30b73",
   "metadata": {},
   "source": [
    "Update of $\\theta$\n",
    "\n",
    "> $\\theta^{(next)} = \\theta - \\eta \\nabla_{\\theta}MSE(\\theta)$\n",
    "\n",
    "where $\\eta$ is the step size"
   ]
  },
  {
   "cell_type": "code",
   "execution_count": 75,
   "id": "07a21d34-2bc9-476a-99fa-dee89f0002bf",
   "metadata": {},
   "outputs": [
    {
     "name": "stdout",
     "output_type": "stream",
     "text": [
      "[[4.55242812]\n",
      " [2.92868956]]\n"
     ]
    },
    {
     "data": {
      "image/png": "[encoded data removed]",
      "text/plain": [
       "<Figure size 432x288 with 1 Axes>"
      ]
     },
     "metadata": {
      "needs_background": "light"
     },
     "output_type": "display_data"
    }
   ],
   "source": [
    "eta = 0.1 #learning rate\n",
    "n_iterations = 1000\n",
    "m = 100\n",
    "\n",
    "theta = np.random.randn(2,1) # random initialization\n",
    "plt\n",
    "plt.plot(X, y,'b.')\n",
    "for iteration in range(n_iterations):\n",
    "    gradients = 2/m * X_b.T.dot(X_b.dot(theta)-y)\n",
    "    theta = theta - eta * gradients\n",
    "    if iteration<10:\n",
    "        plt.plot(X_new, X_new_b.dot(theta),'r-')\n",
    "    \n",
    "print(theta)\n",
    "plt.title('eta = 0.1')\n",
    "plt.show()"
   ]
  },
  {
   "cell_type": "code",
   "execution_count": 76,
   "id": "47ce4d1b-9ee2-4d9d-a13d-8b9c3f99eae6",
   "metadata": {},
   "outputs": [
    {
     "data": {
      "image/png": "[encoded data removed]",
      "text/plain": [
       "<Figure size 432x288 with 3 Axes>"
      ]
     },
     "metadata": {
      "needs_background": "light"
     },
     "output_type": "display_data"
    },
    {
     "data": {
      "text/plain": [
       "<Figure size 864x864 with 0 Axes>"
      ]
     },
     "metadata": {},
     "output_type": "display_data"
    }
   ],
   "source": [
    "etas = [0.02, 0.1, 0.5]  #learning rate\n",
    "n_iterations = 1000\n",
    "m = 100\n",
    "fig, axs = plt.subplots(1,3)\n",
    "fig = plt.figure(figsize=(12, 12))\n",
    "for eta in etas:\n",
    "    \n",
    "    theta = np.random.randn(2,1) # random initialization\n",
    "    for iteration in range(n_iterations):\n",
    "        index_eta = etas.index(eta)\n",
    "        axs[index_eta].plot(X, y,'b.')\n",
    "\n",
    "        gradients = 2/m * X_b.T.dot(X_b.dot(theta)-y)\n",
    "        theta = theta - eta * gradients\n",
    "        if iteration<10:\n",
    "            axs[index_eta].plot(X_new, X_new_b.dot(theta),'r-')\n",
    "            axs[index_eta].set_ylim([0, 10])\n",
    "            axs[index_eta].set_title(f'eta = {eta}')\n",
    "    \n"
   ]
  },
  {
   "cell_type": "markdown",
   "id": "3d2f632b-a1a0-4357-865c-85a4a2ac0ebc",
   "metadata": {},
   "source": [
    "# Stoschastic Gradient Descent\n",
    "\n",
    "The main problem with Batch Gradient Descent is the fact that it uses the whole training set to compute the gradients at every stpe, which maes it very slow when the trainign set is large. At the oppositive extreme, *Stoschastic Gradient Descent* picks a random instance in the training set at every step and computes the gradient based only on that single instance. Obviously, working on a single instance at a time makes the algorithm much fster becasue it has very little data to manipulate at every iteation. it also makes it possible to train on huge training sets since only once instance need to be in memory at each iteration..\n",
    "\n",
    "On the other hand, due to its stoschastic nature, this algorithm is much less regular than Batch Gradient Descent: instead of gently decreasing until it reaches the minimun, the cost function will bounce up and down to the minimum"
   ]
  },
  {
   "cell_type": "code",
   "execution_count": 77,
   "id": "052188a4-22f9-4345-a0d8-6b373218b728",
   "metadata": {},
   "outputs": [
    {
     "data": {
      "image/png": "[encoded data removed]",
      "text/plain": [
       "<Figure size 432x288 with 1 Axes>"
      ]
     },
     "metadata": {
      "needs_background": "light"
     },
     "output_type": "display_data"
    }
   ],
   "source": [
    "n_epochs =50 \n",
    "t0, t1 = 5, 50\n",
    "\n",
    "def learning_schedule(t):\n",
    "    return t0 / (t1 + t)\n",
    "plt.plot(X,y, 'b.')\n",
    "theta = np.random.randn(2,1) \n",
    "for epoch in range(n_epochs):\n",
    "    for i in range(m):\n",
    "        random_index = np.random.randint(m)\n",
    "        xi = X_b[random_index:random_index+1]\n",
    "        yi = y[random_index:random_index+1]\n",
    "        gradients = 2*xi.T.dot(xi.dot(theta)-yi)\n",
    "        eta = learning_schedule(epoch*m+i)\n",
    "        theta = theta -eta*gradients\n",
    "    plt.plot(X_new, X_new_b.dot(theta),'r-')\n",
    "    \n",
    "plt.show()"
   ]
  },
  {
   "cell_type": "markdown",
   "id": "ebf05012-9f35-4050-9e27-7d2b7d17f064",
   "metadata": {},
   "source": [
    "To perform Linear Regression using Stochastic GD with Scikit-Learn, you can use ```SGDRegressor```"
   ]
  },
  {
   "cell_type": "code",
   "execution_count": 78,
   "id": "c4a5eddd-976c-4430-98bf-3b69dfa8f157",
   "metadata": {},
   "outputs": [
    {
     "data": {
      "text/plain": [
       "(array([4.52640557]), array([2.92848071]))"
      ]
     },
     "execution_count": 78,
     "metadata": {},
     "output_type": "execute_result"
    }
   ],
   "source": [
    "from sklearn.linear_model import SGDRegressor\n",
    "\n",
    "sgd_re = SGDRegressor(max_iter=1000, tol=1e-3, penalty=None, eta0 = 0.1)\n",
    "sgd_re.fit(X,y.ravel())\n",
    "sgd_re.intercept_, sgd_re.coef_"
   ]
  },
  {
   "cell_type": "markdown",
   "id": "c08263ee-5be0-434d-a0c3-4b8b1620e4b7",
   "metadata": {},
   "source": [
    "# Polynomial Regression \n",
    "\n",
    "When data is more complex than a straight line, a simple way is to add powers of each feature as new features, then trainin a linear model on this extended set of features. This technique sis called *Polynomial Regression*\n",
    "\n",
    "Let's generade some non linear model data. In this case we will use a simple *quadratic equation*\n",
    "\n",
    "> $\\displaystyle y = aX^2 +bX +c$"
   ]
  },
  {
   "cell_type": "code",
   "execution_count": 79,
   "id": "415c13ff-3f08-4a35-a3a1-95f66b3c5898",
   "metadata": {},
   "outputs": [
    {
     "data": {
      "text/plain": [
       "Text(0, 0.5, '$y_1$')"
      ]
     },
     "execution_count": 79,
     "metadata": {},
     "output_type": "execute_result"
    },
    {
     "data": {
      "image/png": "[encoded data removed]",
      "text/plain": [
       "<Figure size 432x288 with 1 Axes>"
      ]
     },
     "metadata": {
      "needs_background": "light"
     },
     "output_type": "display_data"
    }
   ],
   "source": [
    "m = 100 \n",
    "X = 6*np.random.rand(m, 1)-3\n",
    "y = 0.6*X**2 +X+2 +np.random.randn(m,1)\n",
    "\n",
    "plt.plot(X,y, 'b.')\n",
    "plt.xlabel('$X_1$')\n",
    "plt.ylabel('$y_1$')"
   ]
  },
  {
   "cell_type": "code",
   "execution_count": 80,
   "id": "05b040da-47f5-4386-b886-abc8ab38c609",
   "metadata": {},
   "outputs": [
    {
     "name": "stdout",
     "output_type": "stream",
     "text": [
      " X[0] = [-2.73996662]\n",
      " X[0]_poly = [-2.73996662  7.50741706]\n"
     ]
    }
   ],
   "source": [
    "from sklearn.preprocessing import PolynomialFeatures\n",
    "\n",
    "ploy_features = PolynomialFeatures(degree = 2, include_bias= False)\n",
    "\n",
    "X_poly = ploy_features.fit_transform(X)\n",
    "\n",
    "print(f' X[0] = {X[0]}')\n",
    "\n",
    "print(f' X[0]_poly = {X_poly[0]}')"
   ]
  },
  {
   "cell_type": "code",
   "execution_count": 81,
   "id": "2ac11d4d-6d99-45b6-9bdd-c4db20f5456b",
   "metadata": {},
   "outputs": [
    {
     "data": {
      "text/plain": [
       "(array([1.98398014]), array([[0.84930868, 0.64048589]]))"
      ]
     },
     "execution_count": 81,
     "metadata": {},
     "output_type": "execute_result"
    }
   ],
   "source": [
    "lin_reg = LinearRegression()\n",
    "lin_reg.fit(X_poly, y)\n",
    "lin_reg.intercept_, lin_reg.coef_"
   ]
  },
  {
   "cell_type": "code",
   "execution_count": 82,
   "id": "54a439ee-3fbd-4f5f-8cda-aaaf06f43b77",
   "metadata": {},
   "outputs": [
    {
     "data": {
      "image/png": "[encoded data removed]",
      "text/plain": [
       "<Figure size 432x288 with 1 Axes>"
      ]
     },
     "metadata": {
      "needs_background": "light"
     },
     "output_type": "display_data"
    }
   ],
   "source": [
    "X_new = np.linspace(-3,3,100).reshape(100,1)\n",
    "X_new_poly = ploy_features.transform(X_new)\n",
    "y_new = lin_reg.predict(X_new_poly)\n",
    "plt.plot(X, y, 'b.')\n",
    "plt.plot(X_new, y_new, 'r-', label = 'Predictions')\n",
    "plt.xlabel('$X_1$', fontsize = 18)\n",
    "plt.ylabel('$y_1$', fontsize = 18)\n",
    "plt.legend(loc = 'upper left', fontsize = 14 )\n",
    "plt.axis([-3, 3, 0, 10])\n",
    "plt.show()"
   ]
  },
  {
   "cell_type": "markdown",
   "id": "8822f1d5-fab0-4d98-b44f-d05cb2f40d44",
   "metadata": {},
   "source": [
    "## Learning curves\n",
    "\n",
    "Learning curves are plots of the mode's performance on the training set an the validatoin set as a funciton of the traning set size (or the trainig size iteration). To generate this plots, trainin the model several times on different sized subssets of the training set."
   ]
  },
  {
   "cell_type": "code",
   "execution_count": 83,
   "id": "d441043d-2459-475d-b9a9-9c1b02b809d3",
   "metadata": {},
   "outputs": [
    {
     "data": {
      "image/png": "[encoded data removed]",
      "text/plain": [
       "<Figure size 432x288 with 1 Axes>"
      ]
     },
     "metadata": {
      "needs_background": "light"
     },
     "output_type": "display_data"
    }
   ],
   "source": [
    "from sklearn.metrics import mean_squared_error\n",
    "from sklearn.model_selection import train_test_split\n",
    "\n",
    "\n",
    "def  plot_learning_curves (model, X, y):\n",
    "    \"\"\"\n",
    "    This fuction takes a model, a set of X and y values and retrieve the elaning curve \n",
    "    \"\"\"\n",
    "    X_train, X_val, y_train, y_val = train_test_split(X, y, test_size=0.2)\n",
    "    train_errors, val_errors =[],[]\n",
    "    for m in range(1, len(X_train)):\n",
    "        model.fit(X_train[:m], y_train[:m])\n",
    "        y_train_pred = model.predict(X_train[:m])\n",
    "        y_val_pred = model.predict(X_val[:m])\n",
    "        train_errors.append(mean_squared_error(y_train[:m],y_train_pred[:m]))\n",
    "        val_errors.append(mean_squared_error(y_val[:m], y_val_pred[:m]))\n",
    "    plt.plot(np.sqrt(train_errors), 'r+', linewidth = 2 , label = 'train')\n",
    "    plt.plot(np.sqrt(val_errors), 'b.', linewidth = 2, label ='val')\n",
    "    plt.legend(loc=\"upper right\", fontsize=14)   # not shown in the book\n",
    "\n",
    "\n",
    "lin_reg =LinearRegression()\n",
    "plot_learning_curves(lin_reg, X, y)"
   ]
  },
  {
   "cell_type": "markdown",
   "id": "8e434c2e-40aa-4f5b-9f81-c08be928a28a",
   "metadata": {},
   "source": [
    "## Regularized Linear Models \n",
    "Regularize a model meand to decrease the degrees of freedom it has, it will be harder for it to overfitt the model \n",
    "\n",
    "### Ridge Regression \n",
    "\n",
    "Ridge Regression (also called *Tikhonov* regulaization) is a regularized version of Linear Regression\n",
    "\n",
    "A *regularization term* equal to $\\alpha \\sum_{i=1}^{n} \\theta^2_i$ is added to the cost function. \n",
    "\n",
    "This forces the learning algorithm to not only fit the data but also keep the model weights as small as possible.\n",
    "\n",
    "The hyperparameter $\\alpha$ controls how much you want to regularize the model. If. $\\alpha = 0$ the Ridge Regression is just a Linear Regression\n",
    "\n",
    "> *Equation for the Ridge Regression cost function* \\\n",
    "> $\\displaystyle J(\\theta) = MSE(\\theta) + \\alpha \\frac{1}{2} \\sum_{i=1}^{n} \\theta^2_i$\n",
    "\n",
    "\n",
    "It is important to scale data (eg. ussing ```StandarScaler``` before performing Ridge Regression, as it is sensitive to the scale input features.)\n",
    "\n",
    "> *Equation for the Ridge Regression closed-form solution*\\\n",
    "> $\\displaystyle \\Theta = (X^T·X + \\alpha · A)^{-1}·X^T·y$\n",
    "\n",
    "Despite its aparent complexity, ussign the **Ridge Regression cost function** is very easy in Sklearn, we only have to import ```Ridge```, ```select alpha = 1``` and the ```solver = 'cholesky```"
   ]
  },
  {
   "cell_type": "code",
   "execution_count": 84,
   "id": "68b0fec1-d2c9-42aa-9c39-23db2a21cc4b",
   "metadata": {},
   "outputs": [
    {
     "data": {
      "text/plain": [
       "array([[5.51305742]])"
      ]
     },
     "execution_count": 84,
     "metadata": {},
     "output_type": "execute_result"
    }
   ],
   "source": [
    "from sklearn.linear_model import Ridge\n",
    "ridge_reg = Ridge(alpha=1, solver ='cholesky')\n",
    "ridge_reg.fit(X,y)\n",
    "ridge_reg.predict([[1.5]])"
   ]
  },
  {
   "cell_type": "code",
   "execution_count": 85,
   "id": "730a653b-7a26-4f08-9f00-8aeeacb78513",
   "metadata": {},
   "outputs": [
    {
     "name": "stderr",
     "output_type": "stream",
     "text": [
      "/Users/alejandrogutierrezgonzalez/opt/anaconda3/lib/python3.9/site-packages/sklearn/utils/validation.py:993: DataConversionWarning: A column-vector y was passed when a 1d array was expected. Please change the shape of y to (n_samples, ), for example using ravel().\n",
      "  y = column_or_1d(y, warn=True)\n"
     ]
    },
    {
     "data": {
      "text/plain": [
       "array([5.50240659])"
      ]
     },
     "execution_count": 85,
     "metadata": {},
     "output_type": "execute_result"
    }
   ],
   "source": [
    "#For comparison we are using the Stochastic Gradient Descent\n",
    "\n",
    "sdg_reg = SGDRegressor(penalty='l2')\n",
    "sdg_reg.fit(X,y)\n",
    "sdg_reg.predict([[1.5]])"
   ]
  },
  {
   "cell_type": "markdown",
   "id": "fee83e3a-9ec1-458e-b7c1-88f73b3250a2",
   "metadata": {},
   "source": [
    "### Lasso Regression \n",
    "\n",
    "*Least Absolute Shrinkage and Selection Operator Regression* or *Lasso Regression* is another **regularized** version of Linear Regression. Like Ridge Regression, it adds a regularization term to the cost function, but it uses the $l_1$ norm of the weight vector instead of halft the square of the $l_2$ norm\n",
    "\n",
    "> Lasso Regression cost function\\\n",
    "> $\\displaystyle J(\\theta) = MSE(\\theta) + \\alpha \\sum_{i=1}^{n} |\\theta_i$|\n",
    "\n",
    "An important characteristic of the Lasso Regression is that it tends to eliminate the weights of the least important features. It performs feature selection and outputs a *sparse model* with few nonzero feature weights"
   ]
  },
  {
   "cell_type": "code",
   "execution_count": 86,
   "id": "d6447107-fa3a-4e10-ae7a-e49f215d96b0",
   "metadata": {},
   "outputs": [
    {
     "data": {
      "text/plain": [
       "array([5.48201192])"
      ]
     },
     "execution_count": 86,
     "metadata": {},
     "output_type": "execute_result"
    }
   ],
   "source": [
    "from sklearn.linear_model import Lasso\n",
    "lasso_reg = Lasso(alpha = 0.1)\n",
    "lasso_reg.fit(X,y)\n",
    "lasso_reg.predict([[1.5]])"
   ]
  },
  {
   "cell_type": "markdown",
   "id": "6d897cda-902c-479a-8fd4-393447abd2e5",
   "metadata": {},
   "source": [
    "### ElasticNet\n",
    "\n",
    "It is a middle ground between Ridge and Lasso Regression. The regularization term is simple a mix of both and you can control the mix ratio $s$\n",
    "\n",
    "> ElasticNet\n",
    "\n",
    "> $\\displaystyle J(\\theta) = MSE(\\theta) +r\\alpha \\sum_{i=1}^{n} |\\theta_i| + \\frac{1-r}{2}\\alpha \\sum_{i=1}^{n} \\theta^2_i$\n",
    "\n",
    "It is a compromise solution, and preferable over Lasso as Lasso behave erratically when the number of features is greater than the number of training instances."
   ]
  },
  {
   "cell_type": "code",
   "execution_count": 87,
   "id": "dbb98e88-bcfb-43ce-96e6-00803e3c4f60",
   "metadata": {},
   "outputs": [
    {
     "data": {
      "text/plain": [
       "array([5.48324797])"
      ]
     },
     "execution_count": 87,
     "metadata": {},
     "output_type": "execute_result"
    }
   ],
   "source": [
    "from sklearn.linear_model import ElasticNet\n",
    "elastic_reg = ElasticNet(alpha=0.1, l1_ratio=0.5)\n",
    "elastic_reg.fit(X,y)\n",
    "elastic_reg.predict([[1.5]])"
   ]
  },
  {
   "cell_type": "markdown",
   "id": "c8a85f80-bda3-44ef-801c-33f29a0d3b95",
   "metadata": {},
   "source": [
    "## Logistic Regression\n",
    "\n",
    "Logistic Regression is commoly used to estimate the probability othat an instance belongs to a particular class. If the estimated probability is greater that 50%, then the model predicts the instance belongs to that class (*possitve class* eg. 1) and otherwise that it belongs to the other (*negative class*, eg 2)\n",
    "\n",
    "Just like a Linear Regression model, a logistic Regression Model computes a wighted sum of the input features (plus a bias term), but instead of outputting the result directly like the Linear Regression, it outputs the *logistic* of this results\n",
    "\n",
    "> $\\displaystyle \\hat{p} = h_{\\theta}(x) = \\sigma(x^T\\theta)$\n",
    "\n",
    "> $\\displaystyle \\sigma(t)=\\frac{1}{1-e^{-t}}$"
   ]
  },
  {
   "cell_type": "code",
   "execution_count": 20,
   "id": "431ab944-1eb1-4cb4-be18-ff15593f5dfa",
   "metadata": {},
   "outputs": [
    {
     "data": {
      "text/plain": [
       "[<matplotlib.lines.Line2D at 0x7f9390a24250>]"
      ]
     },
     "execution_count": 20,
     "metadata": {},
     "output_type": "execute_result"
    },
    {
     "data": {
      "image/png": "[encoded data removed]",
      "text/plain": [
       "<Figure size 432x288 with 1 Axes>"
      ]
     },
     "metadata": {
      "needs_background": "light"
     },
     "output_type": "display_data"
    }
   ],
   "source": [
    "x_sigmoid = np.linspace(-10, 10, 100)\n",
    "y_sigmoid = 1/(1+np.exp(-x_sigmoid))\n",
    "\n",
    "plt.legend('$\\displaystyle \\sigma(t)=\\frac{1}{1-e^{-t}}$')\n",
    "\n",
    "plt.plot(x_sigmoid,y_sigmoid)"
   ]
  },
  {
   "cell_type": "markdown",
   "id": "d32daa40-afcb-423c-a17c-f3be7967d820",
   "metadata": {},
   "source": [
    "### Training and cost function\n",
    "\n",
    "The objective is train is to set the parameter vector $\\theta$ so that the model estimates high probailities for positive instances and low for negatives \n",
    "\n",
    "if y = 1:   \n",
    "   - $\\displaystyle c(\\theta) = -log(\\hat{p})$\n",
    "\n",
    "if y = 0:\n",
    "   - $\\displaystyle c(\\theta) = -log(1-\\hat{p})$\n",
    "\n",
    "In this case the cost function over the whole training set is the average cost over all training instances, and can be written in a single expression called the *log loss*\n",
    "\n",
    "> $\\displaystyle J(\\theta)= -\\frac{1}{m} \\sum_{i=1}^m[y^{(i)}·log(\\hat{p}^{(i)}) + (1-y^{(1)})·log(1-\\hat{p}^{(i)})]$\n",
    "\n",
    "In this case there is no closed-form of the equation, to compute the value that minimizes $\\theta$, however it is a convex function, so Gradient Descent is garanteed to find the global minimun\n",
    "\n",
    "> Logistic cost function partial derivatives\n",
    "\n",
    "> $\\displaystyle\\frac{\\partial}{\\partial\\theta_j} = \\frac{1}{m}·\\sum_{i = 1}^m((\\sigma(\\theta ^T·X^{(i)})-y^{(i)})x_j^{(i)}$"
   ]
  },
  {
   "cell_type": "markdown",
   "id": "936b986d-e107-44f2-b027-629b9360c43c",
   "metadata": {},
   "source": [
    "### Decision Boundaries\n",
    "\n",
    "We are going to use the *Iris* data set\n",
    "\n",
    "We are going to build a classifier to detect the *Iris virginica* type baed only on the petal width.\n",
    "\n"
   ]
  },
  {
   "cell_type": "code",
   "execution_count": 21,
   "id": "809f02ea-c775-4965-8eea-7fc5394153c1",
   "metadata": {},
   "outputs": [
    {
     "data": {
      "text/plain": [
       "['data',\n",
       " 'target',\n",
       " 'frame',\n",
       " 'target_names',\n",
       " 'DESCR',\n",
       " 'feature_names',\n",
       " 'filename',\n",
       " 'data_module']"
      ]
     },
     "execution_count": 21,
     "metadata": {},
     "output_type": "execute_result"
    }
   ],
   "source": [
    "from sklearn import datasets\n",
    "iris = datasets.load_iris()\n",
    "list(iris.keys())"
   ]
  },
  {
   "cell_type": "code",
   "execution_count": 33,
   "id": "43e175f0-b47f-40b6-8b00-3c15164ef022",
   "metadata": {},
   "outputs": [],
   "source": [
    "X = iris['data'][:,3:] #petal witdh\n",
    "y = (iris['target'] == 2).astype(int) #1 for Iris virginica, else = 0\n"
   ]
  },
  {
   "cell_type": "code",
   "execution_count": 34,
   "id": "3ebfe09a-0e34-47e5-8984-0afb1e3b9c1b",
   "metadata": {},
   "outputs": [
    {
     "data": {
      "text/plain": [
       "LogisticRegression()"
      ]
     },
     "execution_count": 34,
     "metadata": {},
     "output_type": "execute_result"
    }
   ],
   "source": [
    "from sklearn.linear_model import LogisticRegression\n",
    "\n",
    "log_reg = LogisticRegression()\n",
    "log_reg.fit(X, y)"
   ]
  },
  {
   "cell_type": "markdown",
   "id": "d04e3bdd-675e-49ff-a18e-101eade5e287",
   "metadata": {},
   "source": [
    "Let's look at the model's estimated probabilities for flowers with petal widths varying from 0 to 3 cm"
   ]
  },
  {
   "cell_type": "code",
   "execution_count": 51,
   "id": "9b41a04e-527c-494d-9c0f-33fc4ce90ac3",
   "metadata": {},
   "outputs": [
    {
     "data": {
      "text/plain": [
       "<matplotlib.legend.Legend at 0x7f93c20784f0>"
      ]
     },
     "execution_count": 51,
     "metadata": {},
     "output_type": "execute_result"
    },
    {
     "data": {
      "image/png": "[encoded data removed]",
      "text/plain": [
       "<Figure size 432x288 with 1 Axes>"
      ]
     },
     "metadata": {
      "needs_background": "light"
     },
     "output_type": "display_data"
    }
   ],
   "source": [
    "X_new = np.linspace(0,3, 100).reshape(-1,1)\n",
    "y_prob = log_reg.predict_proba(X_new)\n",
    "plt.plot(X_new, y_prob[:,1], 'g-', label = 'Iris virginica')\n",
    "plt.plot(X_new, y_prob[:,0], 'b--', label = 'not Iris virginica')\n",
    "plt.plot(X_new, log_reg.predict(X_new))\n",
    "plt.xlabel('Petal width (cm)')\n",
    "plt.ylabel('Probability')\n",
    "plt.legend('center left')"
   ]
  },
  {
   "cell_type": "markdown",
   "id": "b0ca1770-8692-487d-b9bb-459ec459f078",
   "metadata": {},
   "source": [
    "## Softmax regression\n",
    "\n",
    "Logistic Regression can be generalized to support multiple classes directly, without having to train and combine multiple binary classifiers. This is called *Softmax Regression* or *Multinomial Logistic Regression*\n",
    "\n",
    "### General Idea\n",
    " Given an instance $x$, Softmax Regression model first computes a score $s_k(x)$ for each class, then estimates the probailibty of each class by applying the *softmax function* to the scores\n",
    " \n",
    " > Softmax score for class k\\\n",
    " $\\displaystyle s_k(x) = x^T\\theta^{(k)}$\n",
    " \n",
    " Each class has its own dedicated parameter $\\theta^{(k)}$. All vector are typically stored as rows in a *parameter matrix* $\\Theta$\n",
    " \n",
    " > Softmax function\\\n",
    "$\\displaystyle \\hat{p}_k = \\sigma(s(x))_k = \\frac{e^{s_k(x)}}{\\sum_{j=1}^k e^{s_j(x)}}$\n",
    "\n",
    "- K is the number of classes\n",
    "- $s(x)$ is a vector containing the socre of each class for the instance x\n",
    "- $\\sigma(s(x))_k$ is the estimated probaility that the instance x belongs to the class k\n",
    "\n",
    "> Cross entropy cost function\\\n",
    "$\\displaystyle J(\\Theta) = -\\frac{1}{m} \\sum_{i = 1}^m \\sum_{k = 1}^K y_k^{(i)}·log(\\hat{p}^{(i)}_k)$\n",
    "\n",
    "> Cross entrpy gradient vector for class k\\\n",
    "$\\displaystyle \\nabla_{\\theta^{(k)}}J(\\Theta) = -\\frac{1}{m} \\sum_{i = 1}^m (\\hat{p}^{(i)}_k - y_k^{(i)})·x^{(i)}$\n",
    "\n",
    "Now we can compute the gradient vector for every class, then uses Gradient Descent to find the parameter matrix $\\Theta$ that minimizes teh cost function"
   ]
  },
  {
   "cell_type": "code",
   "execution_count": 54,
   "id": "b3a1359c-656a-4135-bf63-769aa26c28bf",
   "metadata": {},
   "outputs": [
    {
     "data": {
      "text/plain": [
       "array([2])"
      ]
     },
     "execution_count": 54,
     "metadata": {},
     "output_type": "execute_result"
    }
   ],
   "source": [
    "X = iris['data'][:,(2,3)] # petal legth and petal width\n",
    "y = iris['target']\n",
    "\n",
    "softmax_reg = LogisticRegression(multi_class='multinomial', solver = 'lbfgs', C=10)\n",
    "softmax_reg.fit(X,y)\n",
    "\n",
    "#for an iris with petals that are 5 cm long and 2 cm wide\n",
    "\n",
    "softmax_reg.predict([[5,2]])"
   ]
  },
  {
   "cell_type": "code",
   "execution_count": 55,
   "id": "463660f4-90aa-474a-969b-5b8284f65471",
   "metadata": {},
   "outputs": [
    {
     "data": {
      "text/plain": [
       "array([[6.38014896e-07, 5.74929995e-02, 9.42506362e-01]])"
      ]
     },
     "execution_count": 55,
     "metadata": {},
     "output_type": "execute_result"
    }
   ],
   "source": [
    "softmax_reg.predict_proba([[5,2]])"
   ]
  },
  {
   "cell_type": "code",
   "execution_count": 56,
   "id": "06b0c904-e38f-43bc-a172-c3e80a9f6254",
   "metadata": {},
   "outputs": [
    {
     "data": {
      "text/plain": [
       "array([0, 0, 0, 0, 0, 0, 0, 0, 0, 0, 0, 0, 0, 0, 0, 0, 0, 0, 0, 0, 0, 0,\n",
       "       0, 0, 0, 0, 0, 0, 0, 0, 0, 0, 0, 0, 0, 0, 0, 0, 0, 0, 0, 0, 0, 0,\n",
       "       0, 0, 0, 0, 0, 0, 1, 1, 1, 1, 1, 1, 1, 1, 1, 1, 1, 1, 1, 1, 1, 1,\n",
       "       1, 1, 1, 1, 2, 1, 1, 1, 1, 1, 1, 2, 1, 1, 1, 1, 1, 2, 1, 1, 1, 1,\n",
       "       1, 1, 1, 1, 1, 1, 1, 1, 1, 1, 1, 1, 2, 2, 2, 2, 2, 2, 1, 2, 2, 2,\n",
       "       2, 2, 2, 2, 2, 2, 2, 2, 2, 1, 2, 2, 2, 2, 2, 2, 2, 2, 2, 2, 2, 2,\n",
       "       2, 1, 2, 2, 2, 2, 2, 2, 2, 2, 2, 2, 2, 2, 2, 2, 2, 2])"
      ]
     },
     "execution_count": 56,
     "metadata": {},
     "output_type": "execute_result"
    }
   ],
   "source": [
    "softmax_reg.predict(X)"
   ]
  },
  {
   "cell_type": "code",
   "execution_count": 66,
   "id": "2e4abdd7-c325-4b58-b096-fd831d85cc79",
   "metadata": {},
   "outputs": [
    {
     "data": {
      "text/plain": [
       "<matplotlib.collections.PathCollection at 0x7f9390ee6e80>"
      ]
     },
     "execution_count": 66,
     "metadata": {},
     "output_type": "execute_result"
    },
    {
     "data": {
      "image/png": "[encoded data removed]",
      "text/plain": [
       "<Figure size 432x288 with 1 Axes>"
      ]
     },
     "metadata": {
      "needs_background": "light"
     },
     "output_type": "display_data"
    }
   ],
   "source": [
    "plt.scatter(X[:,0],X[:,1])"
   ]
  },
  {
   "cell_type": "code",
   "execution_count": null,
   "id": "ccc890c7-79d1-4d1f-b217-65a6e645679b",
   "metadata": {},
   "outputs": [],
   "source": []
  }
 ],
 "metadata": {
  "kernelspec": {
   "display_name": "Python 3 (ipykernel)",
   "language": "python",
   "name": "python3"
  },
  "language_info": {
   "codemirror_mode": {
    "name": "ipython",
    "version": 3
   },
   "file_extension": ".py",
   "mimetype": "text/x-python",
   "name": "python",
   "nbconvert_exporter": "python",
   "pygments_lexer": "ipython3",
   "version": "3.9.7"
  }
 },
 "nbformat": 4,
 "nbformat_minor": 5
}
